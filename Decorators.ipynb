{
 "cells": [
  {
   "cell_type": "code",
   "execution_count": 1,
   "id": "863656d2",
   "metadata": {},
   "outputs": [
    {
     "name": "stdout",
     "output_type": "stream",
     "text": [
      "['ArithmeticError', 'AssertionError', 'AttributeError', 'BaseException', 'BaseExceptionGroup', 'BlockingIOError', 'BrokenPipeError', 'BufferError', 'BytesWarning', 'ChildProcessError', 'ConnectionAbortedError', 'ConnectionError', 'ConnectionRefusedError', 'ConnectionResetError', 'DeprecationWarning', 'EOFError', 'Ellipsis', 'EncodingWarning', 'EnvironmentError', 'Exception', 'ExceptionGroup', 'False', 'FileExistsError', 'FileNotFoundError', 'FloatingPointError', 'FutureWarning', 'GeneratorExit', 'IOError', 'ImportError', 'ImportWarning', 'IndentationError', 'IndexError', 'InterruptedError', 'IsADirectoryError', 'KeyError', 'KeyboardInterrupt', 'LookupError', 'MemoryError', 'ModuleNotFoundError', 'NameError', 'None', 'NotADirectoryError', 'NotImplemented', 'NotImplementedError', 'OSError', 'OverflowError', 'PendingDeprecationWarning', 'PermissionError', 'ProcessLookupError', 'RecursionError', 'ReferenceError', 'ResourceWarning', 'RuntimeError', 'RuntimeWarning', 'StopAsyncIteration', 'StopIteration', 'SyntaxError', 'SyntaxWarning', 'SystemError', 'SystemExit', 'TabError', 'TimeoutError', 'True', 'TypeError', 'UnboundLocalError', 'UnicodeDecodeError', 'UnicodeEncodeError', 'UnicodeError', 'UnicodeTranslateError', 'UnicodeWarning', 'UserWarning', 'ValueError', 'Warning', 'WindowsError', 'ZeroDivisionError', '__IPYTHON__', '__build_class__', '__debug__', '__doc__', '__import__', '__loader__', '__name__', '__package__', '__spec__', 'abs', 'aiter', 'all', 'anext', 'any', 'ascii', 'bin', 'bool', 'breakpoint', 'bytearray', 'bytes', 'callable', 'chr', 'classmethod', 'compile', 'complex', 'copyright', 'credits', 'delattr', 'dict', 'dir', 'display', 'divmod', 'enumerate', 'eval', 'exec', 'execfile', 'filter', 'float', 'format', 'frozenset', 'get_ipython', 'getattr', 'globals', 'hasattr', 'hash', 'help', 'hex', 'id', 'input', 'int', 'isinstance', 'issubclass', 'iter', 'len', 'license', 'list', 'locals', 'map', 'max', 'memoryview', 'min', 'next', 'object', 'oct', 'open', 'ord', 'pow', 'print', 'property', 'range', 'repr', 'reversed', 'round', 'runfile', 'set', 'setattr', 'slice', 'sorted', 'staticmethod', 'str', 'sum', 'super', 'tuple', 'type', 'vars', 'zip']\n"
     ]
    }
   ],
   "source": [
    "#builtin scope\n",
    "import builtins\n",
    "print(dir(builtins))"
   ]
  },
  {
   "cell_type": "markdown",
   "id": "0e4510d6",
   "metadata": {},
   "source": [
    "# Decorators"
   ]
  },
  {
   "cell_type": "markdown",
   "id": "d14c1f86",
   "metadata": {},
   "source": [
    "A decorator in a python is a function that recceives another functions as inputs and adds some functionlity(decorations) to returns it."
   ]
  },
  {
   "cell_type": "markdown",
   "id": "fb1f3d14",
   "metadata": {},
   "source": [
    "This can happen only because python funcctions are first class citizen."
   ]
  },
  {
   "cell_type": "markdown",
   "id": "70976916",
   "metadata": {},
   "source": [
    "There are two types of decorator available in python"
   ]
  },
  {
   "cell_type": "raw",
   "id": "41d8c15f",
   "metadata": {},
   "source": [
    "'Built in decorators like' @staticmethod, @classmethod, @abstractclassmethod and @propertymethod etc.\n",
    "'user defined decorators'that we programmers can create according to our needs\n"
   ]
  },
  {
   "cell_type": "markdown",
   "id": "4b4a9340",
   "metadata": {},
   "source": [
    "# 1st class citizen"
   ]
  },
  {
   "cell_type": "raw",
   "id": "0ec6730e",
   "metadata": {},
   "source": [
    "#objects on which  we can do every operations -stored ,delete,we can give as an input to another fn and fn can return it\n",
    "in python functions are 1t class citizens"
   ]
  },
  {
   "cell_type": "code",
   "execution_count": 2,
   "id": "50818cbf",
   "metadata": {},
   "outputs": [
    {
     "name": "stdout",
     "output_type": "stream",
     "text": [
      "hello\n"
     ]
    }
   ],
   "source": [
    "def fn():\n",
    "    print(\"hello\")\n",
    "a=fn\n",
    "#fn()\n",
    "fn()\n"
   ]
  },
  {
   "cell_type": "code",
   "execution_count": 3,
   "id": "e6257108",
   "metadata": {},
   "outputs": [],
   "source": [
    "del a"
   ]
  },
  {
   "cell_type": "code",
   "execution_count": 4,
   "id": "fe6cb5d4",
   "metadata": {},
   "outputs": [
    {
     "ename": "NameError",
     "evalue": "name 'a' is not defined",
     "output_type": "error",
     "traceback": [
      "\u001b[1;31m---------------------------------------------------------------------------\u001b[0m",
      "\u001b[1;31mNameError\u001b[0m                                 Traceback (most recent call last)",
      "Cell \u001b[1;32mIn[4], line 1\u001b[0m\n\u001b[1;32m----> 1\u001b[0m a\n",
      "\u001b[1;31mNameError\u001b[0m: name 'a' is not defined"
     ]
    }
   ],
   "source": [
    "a"
   ]
  },
  {
   "cell_type": "code",
   "execution_count": 6,
   "id": "121dc8ee",
   "metadata": {},
   "outputs": [],
   "source": [
    "def sqr(n):\n",
    "    print (n*n)"
   ]
  },
  {
   "cell_type": "code",
   "execution_count": 8,
   "id": "33a1d9cb",
   "metadata": {},
   "outputs": [
    {
     "name": "stdout",
     "output_type": "stream",
     "text": [
      "100\n"
     ]
    }
   ],
   "source": [
    "sqr(10)"
   ]
  },
  {
   "cell_type": "code",
   "execution_count": 2,
   "id": "a6d8df51",
   "metadata": {},
   "outputs": [
    {
     "ename": "NameError",
     "evalue": "name 'sqr' is not defined",
     "output_type": "error",
     "traceback": [
      "\u001b[1;31m---------------------------------------------------------------------------\u001b[0m",
      "\u001b[1;31mNameError\u001b[0m                                 Traceback (most recent call last)",
      "Cell \u001b[1;32mIn[2], line 3\u001b[0m\n\u001b[0;32m      1\u001b[0m \u001b[38;5;28;01mdef\u001b[39;00m \u001b[38;5;21mcube\u001b[39m(n):\n\u001b[0;32m      2\u001b[0m     \u001b[38;5;28;01mreturn\u001b[39;00m sqr(n)\u001b[38;5;241m*\u001b[39mn\n\u001b[1;32m----> 3\u001b[0m cube(\u001b[38;5;241m10\u001b[39m)\n",
      "Cell \u001b[1;32mIn[2], line 2\u001b[0m, in \u001b[0;36mcube\u001b[1;34m(n)\u001b[0m\n\u001b[0;32m      1\u001b[0m \u001b[38;5;28;01mdef\u001b[39;00m \u001b[38;5;21mcube\u001b[39m(n):\n\u001b[1;32m----> 2\u001b[0m     \u001b[38;5;28;01mreturn\u001b[39;00m sqr(n)\u001b[38;5;241m*\u001b[39mn\n",
      "\u001b[1;31mNameError\u001b[0m: name 'sqr' is not defined"
     ]
    }
   ],
   "source": [
    "def cube(n):\n",
    "    return sqr(n)*n\n",
    "cube(10)"
   ]
  },
  {
   "cell_type": "code",
   "execution_count": 3,
   "id": "eac5cfa5",
   "metadata": {},
   "outputs": [
    {
     "data": {
      "text/plain": [
       "64"
      ]
     },
     "execution_count": 3,
     "metadata": {},
     "output_type": "execute_result"
    }
   ],
   "source": [
    "#input to decorator\n",
    "def square(num):\n",
    "    return num**2\n",
    "\n",
    "#decorator\n",
    "def modify(func,num):\n",
    "    return num**2\n",
    "\n",
    "modify(square,8)   "
   ]
  },
  {
   "cell_type": "code",
   "execution_count": 4,
   "id": "1a48ba87",
   "metadata": {},
   "outputs": [
    {
     "data": {
      "text/plain": [
       "4"
      ]
     },
     "execution_count": 4,
     "metadata": {},
     "output_type": "execute_result"
    }
   ],
   "source": [
    "# Python are 1st class function\n",
    "\n",
    "#decorator\n",
    "def modify(func,num):\n",
    "    return func(num)\n",
    "\n",
    "#input to decorator\n",
    "def square(num):\n",
    "    return num**2\n",
    "\n",
    "modify(square,2)  #func=square"
   ]
  },
  {
   "cell_type": "code",
   "execution_count": 5,
   "id": "9d09daf0",
   "metadata": {},
   "outputs": [
    {
     "data": {
      "text/plain": [
       "100"
      ]
     },
     "execution_count": 5,
     "metadata": {},
     "output_type": "execute_result"
    }
   ],
   "source": [
    "square(10)"
   ]
  },
  {
   "cell_type": "code",
   "execution_count": 6,
   "id": "2d4b53ce",
   "metadata": {},
   "outputs": [
    {
     "name": "stdout",
     "output_type": "stream",
     "text": [
      "________\n",
      "\n",
      "Ankit\n",
      "__________\n",
      "________\n",
      "\n",
      "python Developer\n",
      "__________\n"
     ]
    }
   ],
   "source": [
    "def dec(fn):#decorator\n",
    "    def inner():\n",
    "        print(\"________\\n\")\n",
    "        fn()\n",
    "        print(\"__________\")\n",
    "    return inner\n",
    "def name():\n",
    "    print(\"Ankit\")\n",
    "a=dec(name)\n",
    "a()\n",
    "def profession():\n",
    "    print(\"python Developer\")\n",
    "b=dec(profession)\n",
    "b()\n",
    "        "
   ]
  },
  {
   "cell_type": "code",
   "execution_count": 7,
   "id": "84a49471",
   "metadata": {},
   "outputs": [
    {
     "name": "stdout",
     "output_type": "stream",
     "text": [
      "____________________\n",
      "\n",
      "Ankit\n",
      "____________________\n",
      "\n"
     ]
    }
   ],
   "source": [
    "def name():\n",
    "     print(\"____________________\\n\")\n",
    "     print(\"Ankit\")\n",
    "     print(\"____________________\\n\")\n",
    "name()       "
   ]
  },
  {
   "cell_type": "code",
   "execution_count": 12,
   "id": "8dfb00cb",
   "metadata": {},
   "outputs": [],
   "source": [
    "def dec(fn):  #gving fn(another function as input)\n",
    "    def inner():\n",
    "        print(\"_______________\\n\")\n",
    "        fn()      #calling another fn\n",
    "        print(\"_______________\\n\")\n",
    "    return inner\n",
    "def name():\n",
    "    print(\"Ankit\")\n",
    "def profession():\n",
    "    print(\"Python Developer\")\n",
    "    "
   ]
  },
  {
   "cell_type": "code",
   "execution_count": 13,
   "id": "75af2a72",
   "metadata": {},
   "outputs": [],
   "source": [
    "a=dec(name) #given name fn as input"
   ]
  },
  {
   "cell_type": "code",
   "execution_count": 14,
   "id": "60abb466",
   "metadata": {},
   "outputs": [
    {
     "name": "stdout",
     "output_type": "stream",
     "text": [
      "_______________\n",
      "\n",
      "Ankit\n",
      "_______________\n",
      "\n"
     ]
    }
   ],
   "source": [
    "a()"
   ]
  },
  {
   "cell_type": "code",
   "execution_count": 15,
   "id": "130ad3e0",
   "metadata": {},
   "outputs": [
    {
     "name": "stdout",
     "output_type": "stream",
     "text": [
      "_______________\n",
      "\n",
      "Python Developer\n",
      "_______________\n",
      "\n"
     ]
    }
   ],
   "source": [
    "dec(profession)() #given profession fn as input"
   ]
  },
  {
   "cell_type": "code",
   "execution_count": 17,
   "id": "f4e95817",
   "metadata": {},
   "outputs": [
    {
     "name": "stdout",
     "output_type": "stream",
     "text": [
      "***********************\n",
      "hello\n",
      "***********************\n",
      "***********************\n",
      "hello ANKIT\n",
      "***********************\n"
     ]
    }
   ],
   "source": [
    "# simple example\n",
    "\n",
    "def my_decorator(func):\n",
    "    def wrapper():\n",
    "        print('***********************')\n",
    "        func()\n",
    "        print('***********************')\n",
    "    return wrapper\n",
    "\n",
    "def hello():\n",
    "      print('hello')\n",
    "\n",
    "def display():\n",
    "      print('hello ANKIT')\n",
    "\n",
    "a = my_decorator(hello)\n",
    "a()\n",
    "\n",
    "b = my_decorator(display)\n",
    "b()\n",
    "\n",
    "\n",
    "#we can decorate any function like this"
   ]
  },
  {
   "cell_type": "code",
   "execution_count": 20,
   "id": "bbfb33a1",
   "metadata": {},
   "outputs": [
    {
     "name": "stdout",
     "output_type": "stream",
     "text": [
      "Ankit\n",
      "15\n"
     ]
    }
   ],
   "source": [
    "#more functions\n",
    "def outer():\n",
    "    a=10\n",
    "    print(\"Ankit\")\n",
    "    def inner():\n",
    "        print(a+5)\n",
    "    return inner\n",
    "\n",
    "a=outer()\n",
    "a()"
   ]
  },
  {
   "cell_type": "code",
   "execution_count": 26,
   "id": "4e105680",
   "metadata": {},
   "outputs": [],
   "source": [
    "def dec(fn):   #giving function (another function as input)\n",
    "    def inner():\n",
    "        print(\"_________/\")\n",
    "        fn()   #calling another function\n",
    "        print(\"__________\")\n",
    "    return inner\n",
    "def name():\n",
    "    print(\"Ankit\")\n",
    "def profession():\n",
    "    print(\"Python developer\")\n",
    "    \n",
    "a=dec(name)\n",
    "b=dec(profession)"
   ]
  },
  {
   "cell_type": "code",
   "execution_count": 27,
   "id": "c4bf793d",
   "metadata": {},
   "outputs": [
    {
     "name": "stdout",
     "output_type": "stream",
     "text": [
      "_________/\n",
      "Ankit\n",
      "__________\n"
     ]
    }
   ],
   "source": [
    "a()"
   ]
  },
  {
   "cell_type": "code",
   "execution_count": 28,
   "id": "4e5d6203",
   "metadata": {},
   "outputs": [
    {
     "name": "stdout",
     "output_type": "stream",
     "text": [
      "_________/\n",
      "Python developer\n",
      "__________\n"
     ]
    }
   ],
   "source": [
    "b()"
   ]
  },
  {
   "cell_type": "raw",
   "id": "f4650d1f",
   "metadata": {},
   "source": [
    "@dec"
   ]
  },
  {
   "cell_type": "code",
   "execution_count": 30,
   "id": "ca9efa11",
   "metadata": {},
   "outputs": [
    {
     "name": "stdout",
     "output_type": "stream",
     "text": [
      "___________/n\n",
      "Python developer\n",
      "_______\n"
     ]
    }
   ],
   "source": [
    "#shortcut =better syntax\n",
    "def dec(fn):  #giving fn(another function as input)\n",
    "    def inner():\n",
    "        print(\"___________/n\")\n",
    "        fn()   #calling another fn\n",
    "        print(\"_______\")\n",
    "    return inner\n",
    "# @dec\n",
    "# def name():\n",
    "#      print(Ankit)\n",
    "# name()\n",
    "\n",
    "@dec\n",
    "def profession():\n",
    "    print(\"Python developer\")\n",
    "profession()\n",
    "    \n",
    "\n"
   ]
  },
  {
   "cell_type": "code",
   "execution_count": 9,
   "id": "f4f1f5eb",
   "metadata": {},
   "outputs": [
    {
     "name": "stdout",
     "output_type": "stream",
     "text": [
      "**********\n",
      "hello\n",
      "***********\n"
     ]
    }
   ],
   "source": [
    "#better syntax?\n",
    "#simple example\n",
    "\n",
    "def my_decorator(func):\n",
    "    def wrapper():\n",
    "        print('**********')\n",
    "        func()\n",
    "        print('***********')\n",
    "    return wrapper\n",
    "@my_decorator\n",
    "def hello():\n",
    "    print('hello')\n",
    "    \n",
    "hello()"
   ]
  },
  {
   "cell_type": "markdown",
   "id": "3201c283",
   "metadata": {},
   "source": [
    "*args and **kwargs are commonly used to pass a variable number of arguments to a function.\n"
   ]
  },
  {
   "cell_type": "raw",
   "id": "2bd0d39b",
   "metadata": {},
   "source": [
    "\n",
    "\n",
    "*args: This syntax is used to pass a variable number of positional arguments to a function. \n",
    "The *args parameter collects all positional arguments into a tuple within the function.\n"
   ]
  },
  {
   "cell_type": "markdown",
   "id": "c0e3e32e",
   "metadata": {},
   "source": [
    "# Example"
   ]
  },
  {
   "cell_type": "code",
   "execution_count": 10,
   "id": "b591c942",
   "metadata": {},
   "outputs": [
    {
     "ename": "TypeError",
     "evalue": "fn() takes 1 positional argument but 4 were given",
     "output_type": "error",
     "traceback": [
      "\u001b[1;31m---------------------------------------------------------------------------\u001b[0m",
      "\u001b[1;31mTypeError\u001b[0m                                 Traceback (most recent call last)",
      "Cell \u001b[1;32mIn[10], line 3\u001b[0m\n\u001b[0;32m      1\u001b[0m \u001b[38;5;28;01mdef\u001b[39;00m \u001b[38;5;21mfn\u001b[39m(n):\n\u001b[0;32m      2\u001b[0m     \u001b[38;5;28;01mreturn\u001b[39;00m n\n\u001b[1;32m----> 3\u001b[0m fn(\u001b[38;5;241m1\u001b[39m,\u001b[38;5;241m2\u001b[39m,\u001b[38;5;241m3\u001b[39m,\u001b[38;5;241m4\u001b[39m)\n",
      "\u001b[1;31mTypeError\u001b[0m: fn() takes 1 positional argument but 4 were given"
     ]
    }
   ],
   "source": [
    "def fn(n):\n",
    "    return n\n",
    "fn(1,2,3,4)"
   ]
  },
  {
   "cell_type": "code",
   "execution_count": 12,
   "id": "4f6475c9",
   "metadata": {},
   "outputs": [
    {
     "name": "stdout",
     "output_type": "stream",
     "text": [
      "4\n",
      "12\n",
      "11\n"
     ]
    }
   ],
   "source": [
    "def fn(*args):\n",
    "    for i in args:\n",
    "        \n",
    "        print(i+3)\n",
    "        #(i+i)\n",
    "    \n",
    "fn(1,9,8)"
   ]
  },
  {
   "cell_type": "code",
   "execution_count": 13,
   "id": "198204eb",
   "metadata": {},
   "outputs": [
    {
     "name": "stdout",
     "output_type": "stream",
     "text": [
      "1\n",
      "2\n",
      "3\n"
     ]
    }
   ],
   "source": [
    "def my_function(*args):\n",
    "    for arg in args:\n",
    "        print(arg)\n",
    "        \n",
    "my_function(1,2,3)"
   ]
  },
  {
   "cell_type": "code",
   "execution_count": 14,
   "id": "75f0e70c",
   "metadata": {},
   "outputs": [
    {
     "name": "stdout",
     "output_type": "stream",
     "text": [
      "1\n",
      "4\n",
      "9\n"
     ]
    }
   ],
   "source": [
    "def my_function(*args):\n",
    "    for i in args:\n",
    "        print(i*i)\n",
    "\n",
    "my_function(1, 2, 3)\n",
    "# Output: 1\n",
    "#         2\n",
    "#         3\n"
   ]
  },
  {
   "cell_type": "markdown",
   "id": "d31b8339",
   "metadata": {},
   "source": [
    "2)**kwargs: This syntax is used to pass a variable number of keyword arguments to a function. The **kwargs parameter collects all keyword arguments into a \n",
    "dictionary within the function, where the keys are the argument names."
   ]
  },
  {
   "cell_type": "code",
   "execution_count": 16,
   "id": "ea7be7fd",
   "metadata": {},
   "outputs": [
    {
     "ename": "AttributeError",
     "evalue": "'dict' object has no attribute 'item'",
     "output_type": "error",
     "traceback": [
      "\u001b[1;31m---------------------------------------------------------------------------\u001b[0m",
      "\u001b[1;31mAttributeError\u001b[0m                            Traceback (most recent call last)",
      "Cell \u001b[1;32mIn[16], line 4\u001b[0m\n\u001b[0;32m      2\u001b[0m     \u001b[38;5;28;01mfor\u001b[39;00m key,value \u001b[38;5;129;01min\u001b[39;00m kwargs\u001b[38;5;241m.\u001b[39mitem():\n\u001b[0;32m      3\u001b[0m         \u001b[38;5;28mprint\u001b[39m(\u001b[38;5;124mf\u001b[39m\u001b[38;5;124m\"\u001b[39m\u001b[38;5;132;01m{\u001b[39;00mkey\u001b[38;5;132;01m}\u001b[39;00m\u001b[38;5;124m: \u001b[39m\u001b[38;5;132;01m{\u001b[39;00mvalue\u001b[38;5;132;01m}\u001b[39;00m\u001b[38;5;124m\"\u001b[39m)\n\u001b[1;32m----> 4\u001b[0m my_function(a\u001b[38;5;241m=\u001b[39m\u001b[38;5;241m1\u001b[39m, b\u001b[38;5;241m=\u001b[39m\u001b[38;5;241m2\u001b[39m, c\u001b[38;5;241m=\u001b[39m\u001b[38;5;241m3\u001b[39m)\n",
      "Cell \u001b[1;32mIn[16], line 2\u001b[0m, in \u001b[0;36mmy_function\u001b[1;34m(**kwargs)\u001b[0m\n\u001b[0;32m      1\u001b[0m \u001b[38;5;28;01mdef\u001b[39;00m \u001b[38;5;21mmy_function\u001b[39m(\u001b[38;5;241m*\u001b[39m\u001b[38;5;241m*\u001b[39mkwargs):\n\u001b[1;32m----> 2\u001b[0m     \u001b[38;5;28;01mfor\u001b[39;00m key,value \u001b[38;5;129;01min\u001b[39;00m kwargs\u001b[38;5;241m.\u001b[39mitem():\n\u001b[0;32m      3\u001b[0m         \u001b[38;5;28mprint\u001b[39m(\u001b[38;5;124mf\u001b[39m\u001b[38;5;124m\"\u001b[39m\u001b[38;5;132;01m{\u001b[39;00mkey\u001b[38;5;132;01m}\u001b[39;00m\u001b[38;5;124m: \u001b[39m\u001b[38;5;132;01m{\u001b[39;00mvalue\u001b[38;5;132;01m}\u001b[39;00m\u001b[38;5;124m\"\u001b[39m)\n",
      "\u001b[1;31mAttributeError\u001b[0m: 'dict' object has no attribute 'item'"
     ]
    }
   ],
   "source": [
    "def my_function(**kwargs):\n",
    "    for key,value in kwargs.item():\n",
    "        print(f\"{key}: {value}\")\n",
    "my_function(a=1, b=2, c=3)"
   ]
  },
  {
   "cell_type": "code",
   "execution_count": 17,
   "id": "af94a228",
   "metadata": {},
   "outputs": [
    {
     "ename": "ValueError",
     "evalue": "too many values to unpack (expected 2)",
     "output_type": "error",
     "traceback": [
      "\u001b[1;31m---------------------------------------------------------------------------\u001b[0m",
      "\u001b[1;31mValueError\u001b[0m                                Traceback (most recent call last)",
      "Cell \u001b[1;32mIn[17], line 2\u001b[0m\n\u001b[0;32m      1\u001b[0m d\u001b[38;5;241m=\u001b[39m{\u001b[38;5;124m\"\u001b[39m\u001b[38;5;124mname\u001b[39m\u001b[38;5;124m\"\u001b[39m:\u001b[38;5;124m\"\u001b[39m\u001b[38;5;124mAnkit\u001b[39m\u001b[38;5;124m\"\u001b[39m,\u001b[38;5;124m\"\u001b[39m\u001b[38;5;124mage\u001b[39m\u001b[38;5;124m\"\u001b[39m:\u001b[38;5;124m\"\u001b[39m\u001b[38;5;124m25\u001b[39m\u001b[38;5;124m\"\u001b[39m}\n\u001b[1;32m----> 2\u001b[0m \u001b[38;5;28;01mfor\u001b[39;00m i,j \u001b[38;5;129;01min\u001b[39;00m d:\n\u001b[0;32m      3\u001b[0m     \u001b[38;5;28mprint\u001b[39m(i)\n\u001b[0;32m      4\u001b[0m     \u001b[38;5;28mprint\u001b[39m(j)\n",
      "\u001b[1;31mValueError\u001b[0m: too many values to unpack (expected 2)"
     ]
    }
   ],
   "source": [
    "d={\"name\":\"Ankit\",\"age\":\"25\"}\n",
    "for i,j in d:\n",
    "    print(i)\n",
    "    print(j)"
   ]
  },
  {
   "cell_type": "code",
   "execution_count": 18,
   "id": "1e03f954",
   "metadata": {},
   "outputs": [
    {
     "data": {
      "text/plain": [
       "dict_items([('name', 'Ankit'), ('age', 25)])"
      ]
     },
     "execution_count": 18,
     "metadata": {},
     "output_type": "execute_result"
    }
   ],
   "source": [
    "d={\"name\":\"Ankit\",\"age\":25}\n",
    "d.items()"
   ]
  },
  {
   "cell_type": "code",
   "execution_count": 19,
   "id": "1c1746b7",
   "metadata": {},
   "outputs": [
    {
     "name": "stdout",
     "output_type": "stream",
     "text": [
      "a: 1\n",
      "b: 2\n",
      "c: 3\n"
     ]
    }
   ],
   "source": [
    "def my_function(**kwargs):\n",
    "    for key, value in kwargs.items():\n",
    "        print(f\"{key}: {value}\")\n",
    "\n",
    "my_function(a=1, b=2, c=3)\n",
    "# Output: a: 1\n",
    "#         b: 2\n",
    "#         c: 3\n"
   ]
  },
  {
   "cell_type": "code",
   "execution_count": 20,
   "id": "a840f67f",
   "metadata": {},
   "outputs": [
    {
     "name": "stdout",
     "output_type": "stream",
     "text": [
      "name: Ankit\n",
      "age: 25\n",
      "city: New York\n"
     ]
    }
   ],
   "source": [
    "def print_details(**kwargs):\n",
    "    for key, value in kwargs.items():\n",
    "        print(f\"{key}: {value}\")\n",
    "\n",
    "# Using **kwargs to pass multiple key-value pairs to the function\n",
    "print_details(name=\"Ankit\", age=25, city=\"New York\")\n",
    "\n",
    "# Output:\n",
    "# name: John\n",
    "# age: 30\n",
    "# city: New York\n"
   ]
  },
  {
   "cell_type": "markdown",
   "id": "e1d17abf",
   "metadata": {},
   "source": [
    "# we will print the required time for excecution of any function"
   ]
  },
  {
   "cell_type": "code",
   "execution_count": 21,
   "id": "32cda3cb",
   "metadata": {},
   "outputs": [
    {
     "data": {
      "text/plain": [
       "1708784463.6598058"
      ]
     },
     "execution_count": 21,
     "metadata": {},
     "output_type": "execute_result"
    }
   ],
   "source": [
    "import time\n",
    "time.time()"
   ]
  },
  {
   "cell_type": "code",
   "execution_count": 26,
   "id": "0c039d88",
   "metadata": {},
   "outputs": [
    {
     "name": "stdout",
     "output_type": "stream",
     "text": [
      "1\n",
      "1024\n",
      "59049\n",
      "1048576\n",
      "9765625\n",
      "60466176\n",
      "282475249\n",
      "1073741824\n",
      "3486784401\n",
      "0\n",
      "0.0\n"
     ]
    }
   ],
   "source": [
    "import time\n",
    "start=time.time()\n",
    "def fn(n):\n",
    "    for i in n:\n",
    "        print(i**10)\n",
    "fn([1,2,3,4,5,6,7,8,9,0])\n",
    "end= time.time()\n",
    "print(end-start)"
   ]
  },
  {
   "cell_type": "code",
   "execution_count": 40,
   "id": "33cc8e9c",
   "metadata": {},
   "outputs": [
    {
     "name": "stdout",
     "output_type": "stream",
     "text": [
      "function name here is: ankit\n",
      "a\n",
      "n\n",
      "k\n",
      "i\n",
      "t\n",
      "0.0\n"
     ]
    }
   ],
   "source": [
    "import time\n",
    "start=time.time()\n",
    "def ankit():\n",
    "    print('function name here is:',ankit .__name__)\n",
    "    for i in ankit .__name__:\n",
    "        print(i)\n",
    "ankit()   \n",
    "end=time.time()\n",
    "print(start-end)"
   ]
  },
  {
   "cell_type": "code",
   "execution_count": 43,
   "id": "8bb2ed93",
   "metadata": {},
   "outputs": [
    {
     "data": {
      "text/plain": [
       "'ankit'"
      ]
     },
     "execution_count": 43,
     "metadata": {},
     "output_type": "execute_result"
    }
   ],
   "source": [
    "ankit.__name__"
   ]
  },
  {
   "cell_type": "raw",
   "id": "a3e13b9b",
   "metadata": {},
   "source": [
    "time.time() function returns the current time in seconds since the epoch (January 1, 1970, 00:00:00 UTC)"
   ]
  },
  {
   "cell_type": "code",
   "execution_count": 45,
   "id": "883b1edb",
   "metadata": {},
   "outputs": [],
   "source": [
    "import time\n",
    "\n",
    "def timer(func):\n",
    "    def wrapper():\n",
    "        start = time.time()  #currenttime\n",
    "        func()\n",
    "        print('time taken by',func.__name__,time.time()-start,'secs')\n",
    "        #func.__name__===>function name\n",
    "    return wrapper"
   ]
  },
  {
   "cell_type": "code",
   "execution_count": 46,
   "id": "8974f135",
   "metadata": {},
   "outputs": [
    {
     "name": "stdout",
     "output_type": "stream",
     "text": [
      "hello\n",
      "time taken by hello 0.0 secs\n"
     ]
    }
   ],
   "source": [
    "@timer\n",
    "def hello():\n",
    "    print(\"hello\")\n",
    "    #time.sleep(3)\n",
    "# a=timer(hello)\n",
    "# a()\n",
    "hello()"
   ]
  },
  {
   "cell_type": "code",
   "execution_count": 47,
   "id": "e6b3a2d3",
   "metadata": {},
   "outputs": [
    {
     "name": "stdout",
     "output_type": "stream",
     "text": [
      "displaying something\n",
      "time taken by display 3.001121997833252 secs\n"
     ]
    }
   ],
   "source": [
    "@timer\n",
    "def display():\n",
    "    print(\"displaying something\")\n",
    "    time.sleep(3)\n",
    "# a=timer(display)\n",
    "# a()\n",
    "display()"
   ]
  },
  {
   "cell_type": "code",
   "execution_count": 48,
   "id": "cf9c43c0",
   "metadata": {},
   "outputs": [
    {
     "name": "stdout",
     "output_type": "stream",
     "text": [
      "hello wolrd\n",
      "time taken by hello 2.011122226715088 secs\n",
      "4\n",
      "time taken by square 1.0021183490753174 secs\n",
      "8\n",
      "time taken by power 1.0021882057189941 secs\n"
     ]
    }
   ],
   "source": [
    "import time\n",
    "\n",
    "def timer(func):\n",
    "    def wrapper(*args):\n",
    "        start = time.time()  #current time\n",
    "        func(*args)\n",
    "        print('time taken by',func.__name__,time.time()-start,'secs')\n",
    "    return wrapper\n",
    "\n",
    "@timer\n",
    "def hello():\n",
    "    print('hello wolrd')\n",
    "    time.sleep(2)\n",
    "\n",
    "@timer\n",
    "def square(num):\n",
    "    time.sleep(1)\n",
    "    print(num**2)\n",
    "\n",
    "@timer\n",
    "def power(a,b):\n",
    "    time.sleep(1)\n",
    "    print(a**b)\n",
    "\n",
    "hello()\n",
    "square(2)\n",
    "power(2,3)\n"
   ]
  },
  {
   "cell_type": "markdown",
   "id": "8a83a194",
   "metadata": {},
   "source": [
    "# One last example -> decorators with arguments->checking data types\n"
   ]
  },
  {
   "cell_type": "code",
   "execution_count": 49,
   "id": "81e867c8",
   "metadata": {},
   "outputs": [
    {
     "name": "stdout",
     "output_type": "stream",
     "text": [
      "27.040000000000003\n"
     ]
    }
   ],
   "source": [
    "def square(num):\n",
    "    print(num**2)\n",
    "square(5.2)"
   ]
  },
  {
   "cell_type": "code",
   "execution_count": 50,
   "id": "09bfdd8f",
   "metadata": {},
   "outputs": [
    {
     "ename": "SyntaxError",
     "evalue": "invalid syntax (3980443281.py, line 1)",
     "output_type": "error",
     "traceback": [
      "\u001b[1;36m  Cell \u001b[1;32mIn[50], line 1\u001b[1;36m\u001b[0m\n\u001b[1;33m    square(:ankit)\u001b[0m\n\u001b[1;37m           ^\u001b[0m\n\u001b[1;31mSyntaxError\u001b[0m\u001b[1;31m:\u001b[0m invalid syntax\n"
     ]
    }
   ],
   "source": [
    "square(:ankit)"
   ]
  },
  {
   "cell_type": "code",
   "execution_count": 58,
   "id": "10554e56",
   "metadata": {},
   "outputs": [
    {
     "ename": "NameError",
     "evalue": "name 'datatype_check' is not defined",
     "output_type": "error",
     "traceback": [
      "\u001b[1;31m---------------------------------------------------------------------------\u001b[0m",
      "\u001b[1;31mNameError\u001b[0m                                 Traceback (most recent call last)",
      "Cell \u001b[1;32mIn[58], line 1\u001b[0m\n\u001b[1;32m----> 1\u001b[0m \u001b[38;5;129m@datatype_check\u001b[39m(\u001b[38;5;28mint\u001b[39m)\n\u001b[0;32m      2\u001b[0m \u001b[38;5;28;01mdef\u001b[39;00m \u001b[38;5;21msquare\u001b[39m(num):\n\u001b[0;32m      3\u001b[0m     \u001b[38;5;28mprint\u001b[39m(num\u001b[38;5;241m*\u001b[39m\u001b[38;5;241m*\u001b[39m\u001b[38;5;241m2\u001b[39m)\n\u001b[0;32m      4\u001b[0m square(\u001b[38;5;241m2\u001b[39m)\n",
      "\u001b[1;31mNameError\u001b[0m: name 'datatype_check' is not defined"
     ]
    }
   ],
   "source": [
    "@datatype_check(int)\n",
    "def square(num):\n",
    "    print(num**2)\n",
    "square(2)"
   ]
  },
  {
   "cell_type": "code",
   "execution_count": 59,
   "id": "985ff5b7",
   "metadata": {},
   "outputs": [],
   "source": [
    "def datatype_check(data_type):  #decorator  #int\n",
    "    def outer_wrapper(func):   #will take sqr fn \n",
    "        def inner_wrapper(*args):  #will take parameters from sqr\n",
    "            if type(*args) == data_type:#will check data types\n",
    "                func(*args)\n",
    "            else:\n",
    "                raise TypeError('dont give this datatype')\n",
    "        return inner_wrapper\n",
    "    return outer_wrapper\n",
    "\n",
    "@datatype_check(int)\n",
    "def square(num):\n",
    "    print(num**2)\n",
    "\n",
    "@datatype_check(str)\n",
    "def greet(name):\n",
    "    print('hello'+\" \"+name)\n",
    "\n"
   ]
  },
  {
   "cell_type": "code",
   "execution_count": 62,
   "id": "375ab3a2",
   "metadata": {},
   "outputs": [
    {
     "name": "stdout",
     "output_type": "stream",
     "text": [
      "hello ankit\n"
     ]
    }
   ],
   "source": [
    "greet(\"ankit\")"
   ]
  },
  {
   "cell_type": "code",
   "execution_count": null,
   "id": "be91239a",
   "metadata": {},
   "outputs": [],
   "source": []
  }
 ],
 "metadata": {
  "kernelspec": {
   "display_name": "Python 3 (ipykernel)",
   "language": "python",
   "name": "python3"
  },
  "language_info": {
   "codemirror_mode": {
    "name": "ipython",
    "version": 3
   },
   "file_extension": ".py",
   "mimetype": "text/x-python",
   "name": "python",
   "nbconvert_exporter": "python",
   "pygments_lexer": "ipython3",
   "version": "3.11.5"
  }
 },
 "nbformat": 4,
 "nbformat_minor": 5
}
